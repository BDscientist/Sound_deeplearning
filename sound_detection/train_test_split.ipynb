{
 "cells": [
  {
   "cell_type": "code",
   "execution_count": 1,
   "metadata": {},
   "outputs": [],
   "source": [
    "import numpy as np\n",
    "from sklearn.model_selection import GroupShuffleSplit\n",
    "\n"
   ]
  },
  {
   "cell_type": "code",
   "execution_count": 6,
   "metadata": {},
   "outputs": [
    {
     "name": "stdout",
     "output_type": "stream",
     "text": [
      "[177537. 164797.  27216. ... 203929. 169098. 106015.]\n"
     ]
    }
   ],
   "source": [
    "sound_data = np.load('/home/libedev/mute/mute-hero/download/urbansound/UrbanSound8K/audio/Final_totaldataset.npz')\n",
    "X_data = sound_data['X']\n",
    "y_data = sound_data['y'][1:8253]\n",
    "groups = sound_data['groups']\n",
    "\n",
    "print(groups[groups > 0])"
   ]
  },
  {
   "cell_type": "code",
   "execution_count": 7,
   "metadata": {},
   "outputs": [
    {
     "name": "stdout",
     "output_type": "stream",
     "text": [
      "X_train.shape >>  (6723, 193) \n",
      "\n",
      " X_test.shape >> (1529, 193)\n"
     ]
    }
   ],
   "source": [
    "gss = GroupShuffleSplit(n_splits=1,test_size=0.2)\n",
    "\n",
    "for train_idx ,test_idx in gss.split(X_data , y_data, groups = groups):\n",
    "    X_train = X_data[train_idx]\n",
    "    y_train = y_data[train_idx]\n",
    "    groups_train = groups[train_idx]\n",
    "    \n",
    "    X_test = X_data[test_idx]\n",
    "    y_test = y_data[test_idx]\n",
    "    groups_test = groups[test_idx]\n",
    "    \n",
    "    print(\"X_train.shape >> \",X_train.shape ,\"\\n\\n\", \"X_test.shape >>\", X_test.shape)\n",
    "    \n",
    "np.savez('/home/libedev/mute/mute-hero/download/urbansound/UrbanSound8K/audio/Final_train_dataset.npz',X=X_train, y=y_train, groups=groups_train)\n",
    "np.savez('/home/libedev/mute/mute-hero/download/urbansound/UrbanSound8K/audio/Final_test_dataset.npz',X=X_test, y=y_test, groups=groups_test)\n"
   ]
  },
  {
   "cell_type": "code",
   "execution_count": 8,
   "metadata": {},
   "outputs": [],
   "source": [
    "train = np.load('/home/libedev/mute/mute-hero/download/urbansound/UrbanSound8K/audio/total_train_dataset.npz')\n",
    "test = np.load('/home/libedev/mute/mute-hero/download/urbansound/UrbanSound8K/audio/total_test_dataset.npz')"
   ]
  },
  {
   "cell_type": "code",
   "execution_count": 34,
   "metadata": {},
   "outputs": [
    {
     "name": "stdout",
     "output_type": "stream",
     "text": [
      "[[1. 0. 0. ... 0. 0. 0.]\n",
      " [0. 0. 1. ... 0. 0. 0.]\n",
      " [0. 0. 0. ... 0. 0. 0.]\n",
      " ...\n",
      " [0. 0. 1. ... 0. 0. 0.]\n",
      " [0. 0. 0. ... 0. 0. 0.]\n",
      " [0. 0. 0. ... 0. 0. 0.]] \n",
      "\n",
      "\n",
      "(1722, 11)\n"
     ]
    }
   ],
   "source": [
    "print(train['y'],\"\\n\\n\")\n",
    "print(test['y'].shape)"
   ]
  }
 ],
 "metadata": {
  "kernelspec": {
   "display_name": "MUTE",
   "language": "python",
   "name": "mute"
  },
  "language_info": {
   "codemirror_mode": {
    "name": "ipython",
    "version": 3
   },
   "file_extension": ".py",
   "mimetype": "text/x-python",
   "name": "python",
   "nbconvert_exporter": "python",
   "pygments_lexer": "ipython3",
   "version": "3.6.8"
  }
 },
 "nbformat": 4,
 "nbformat_minor": 2
}
