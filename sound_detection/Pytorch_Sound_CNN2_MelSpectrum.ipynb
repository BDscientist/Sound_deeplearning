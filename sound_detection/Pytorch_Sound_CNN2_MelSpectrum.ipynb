{
 "cells": [
  {
   "cell_type": "code",
   "execution_count": 1,
   "metadata": {},
   "outputs": [],
   "source": [
    "import torch\n",
    "import torch.nn as nn\n",
    "import torch.optim as optim\n",
    "\n",
    "import torchvision\n",
    "import torchvision.utils as utils\n",
    "import torchvision.datasets as dsets\n",
    "import torchvision.transforms as transforms\n",
    "from torch.autograd import Variable\n",
    "\n",
    "\n",
    "import numpy as np\n",
    "import random\n",
    "import os\n",
    "import Pyclass \n",
    "\n",
    "\n",
    "\n",
    "from torch.utils.data import Dataset, DataLoader"
   ]
  },
  {
   "cell_type": "markdown",
   "metadata": {},
   "source": [
    "# PYCLASS IMPORT"
   ]
  },
  {
   "cell_type": "code",
   "execution_count": 2,
   "metadata": {},
   "outputs": [],
   "source": [
    "sound_train = Pyclass.my_datset2(part='new_train',option='spectrum_Mel_PCA',train = True)\n",
    "                         \n",
    "\n",
    "sound_test = Pyclass.my_datset2(part='new_test',option='spectrum_Mel_PCA',train = False)"
   ]
  },
  {
   "cell_type": "code",
   "execution_count": 51,
   "metadata": {},
   "outputs": [],
   "source": [
    "batch_size = 10\n",
    "\n",
    "train_loader  = DataLoader(dataset=sound_train,\n",
    "                                           batch_size=batch_size,\n",
    "                                           shuffle=False\n",
    "                                           ,num_workers=1)\n",
    "\n",
    "test_loader = DataLoader(dataset=sound_test,\n",
    "                                         batch_size=batch_size,\n",
    "                                         shuffle=False,\n",
    "                        num_workers=1)"
   ]
  },
  {
   "cell_type": "code",
   "execution_count": 52,
   "metadata": {},
   "outputs": [
    {
     "name": "stdout",
     "output_type": "stream",
     "text": [
      "torch.Size([452, 1, 40, 40])\n",
      "torch.Size([452])\n",
      "torch.float32\n"
     ]
    }
   ],
   "source": [
    "print(sound_train.train_data.shape)\n",
    "print(sound_train.train_label.shape)\n",
    "print(sound_train.train_data.dtype)"
   ]
  },
  {
   "cell_type": "markdown",
   "metadata": {},
   "source": [
    "# DEFINE MODEL"
   ]
  },
  {
   "cell_type": "code",
   "execution_count": 43,
   "metadata": {},
   "outputs": [],
   "source": [
    "class CNN(nn.Module):\n",
    "    def __init__(self):\n",
    "        \n",
    "        super(CNN, self).__init__()\n",
    "        \n",
    "        self.layer = nn.Sequential(\n",
    "            nn.Conv2d(in_channels = 1,out_channels=16,kernel_size = 5),\n",
    "            nn.ReLU(),\n",
    "            nn.Dropout2d(0.5),\n",
    "            nn.Conv2d(in_channels=16,out_channels=32,kernel_size = 5),\n",
    "            nn.BatchNorm2d(32),\n",
    "            nn.ReLU(),\n",
    "            nn.MaxPool2d(2,2),\n",
    "            nn.Conv2d(in_channels = 32,out_channels = 64,kernel_size = 5),\n",
    "            nn.BatchNorm2d(64),\n",
    "            nn.ReLU(),\n",
    "            nn.MaxPool2d(2,2)\n",
    "            \n",
    "        )\n",
    "        \n",
    "        \n",
    "        self.fc_layer = nn.Sequential(\n",
    "            nn.Linear(64*6*6,100),\n",
    "            nn.ReLU(),\n",
    "            nn.Linear(100,8),\n",
    "            nn.Softmax()\n",
    "        )       \n",
    "        \n",
    "    def forward(self,x):\n",
    "        print(x.data.shape)\n",
    "        out = self.layer(x)\n",
    "        out = out.view(out.shape[0],-1)\n",
    "        out = self.fc_layer(out)\n",
    "\n",
    "        return out"
   ]
  },
  {
   "cell_type": "code",
   "execution_count": 44,
   "metadata": {},
   "outputs": [],
   "source": [
    "model = CNN().cuda()"
   ]
  },
  {
   "cell_type": "code",
   "execution_count": 45,
   "metadata": {},
   "outputs": [],
   "source": [
    "loss = nn.CrossEntropyLoss()\n",
    "\n",
    "optimizer = optim.Adagrad(model.parameters(), lr=0.001)"
   ]
  },
  {
   "cell_type": "markdown",
   "metadata": {},
   "source": [
    "# TRAIN MODEL"
   ]
  },
  {
   "cell_type": "code",
   "execution_count": 46,
   "metadata": {},
   "outputs": [],
   "source": [
    "num_epochs = 300"
   ]
  },
  {
   "cell_type": "code",
   "execution_count": 47,
   "metadata": {},
   "outputs": [],
   "source": [
    "save_path = '/home/libedev/mute/mute-hero/download/dataset/model/'\n",
    "model_path = save_path + 'model.pkl'\n",
    "if not os.path.exists(save_path):\n",
    "    os.makedirs(save_path)"
   ]
  },
  {
   "cell_type": "code",
   "execution_count": 48,
   "metadata": {},
   "outputs": [
    {
     "name": "stdout",
     "output_type": "stream",
     "text": [
      "Model Loaded!\n"
     ]
    }
   ],
   "source": [
    "if os.path.isfile(model_path):\n",
    "    model.load_state_dict(torch.load(model_path))\n",
    "    print(\"Model Loaded!\")\n",
    "\n",
    "else:\n",
    "    \n",
    "    for epoch in range(num_epochs):\n",
    "\n",
    "        total_batch = len(sound_train) // batch_size\n",
    "\n",
    "        for i, (batch_images, batch_labels) in enumerate(train_loader):\n",
    "\n",
    "            X = batch_images.cuda()\n",
    "            Y = batch_labels.cuda()\n",
    "\n",
    "            pre = model(X)\n",
    "            cost = loss(pre, Y)\n",
    "\n",
    "            optimizer.zero_grad()\n",
    "            cost.backward()\n",
    "            optimizer.step()\n",
    "\n",
    "            if (i+1) % 10 == 0:\n",
    "                print('Epoch [%d/%d], lter [%d/%d], Loss: %.4f'\n",
    "                     %(epoch+1, num_epochs, i+1, total_batch, cost.item()))\n",
    "\n",
    "    if not os.path.isfile(model_path):\n",
    "        print(\"Model Saved!\")\n",
    "        torch.save(model.state_dict(), model_path)"
   ]
  },
  {
   "cell_type": "markdown",
   "metadata": {},
   "source": [
    "# Transfer Learning"
   ]
  },
  {
   "cell_type": "code",
   "execution_count": null,
   "metadata": {},
   "outputs": [],
   "source": [
    "model_ft = models.resnet18(pretrained=True)\n",
    "num_ftrs = model_ft.fc.in_features\n",
    "model_ft.fc = nn.Linear(num_ftrs, 8)\n",
    "\n",
    "model_ft = model_ft.to(device)\n",
    "\n",
    "criterion = nn.CrossEntropyLoss()\n",
    "\n",
    "# Observe that all parameters are being optimized\n",
    "optimizer_ft = optim.SGD(model_ft.parameters(), lr=0.001, momentum=0.9)\n",
    "\n",
    "# Decay LR by a factor of 0.1 every 7 epochs\n",
    "exp_lr_scheduler = lr_scheduler.StepLR(optimizer_ft, step_size=7, gamma=0.1)"
   ]
  },
  {
   "cell_type": "markdown",
   "metadata": {},
   "source": [
    "# TEST MODEL"
   ]
  },
  {
   "cell_type": "code",
   "execution_count": 39,
   "metadata": {},
   "outputs": [
    {
     "name": "stdout",
     "output_type": "stream",
     "text": [
      "torch.Size([10, 1, 40, 40])\n",
      "torch.Size([10, 1, 40, 40])\n",
      "torch.Size([10, 1, 40, 40])\n",
      "torch.Size([10, 1, 40, 40])\n",
      "torch.Size([10, 1, 40, 40])\n",
      "torch.Size([10, 1, 40, 40])\n",
      "torch.Size([10, 1, 40, 40])\n",
      "torch.Size([10, 1, 40, 40])\n",
      "torch.Size([10, 1, 40, 40])\n",
      "torch.Size([10, 1, 40, 40])\n",
      "torch.Size([10, 1, 40, 40])\n",
      "torch.Size([10, 1, 40, 40])\n",
      "torch.Size([10, 1, 40, 40])\n",
      "torch.Size([10, 1, 40, 40])\n",
      "torch.Size([10, 1, 40, 40])\n",
      "torch.Size([10, 1, 40, 40])\n",
      "torch.Size([8, 1, 40, 40])\n",
      "Accuracy of test sound: 53.571429 %\n"
     ]
    }
   ],
   "source": [
    "model.eval()\n",
    "\n",
    "correct = 0\n",
    "total = 0\n",
    "\n",
    "for sound, labels in test_loader:\n",
    "    \n",
    "    sound = sound.cuda()\n",
    "    outputs = model(sound)\n",
    "    \n",
    "    _, predicted = torch.max(outputs.data, 1)\n",
    "    \n",
    "    total += labels.size(0)\n",
    "    correct += (predicted == labels.cuda()).sum()\n",
    "    \n",
    "print('Accuracy of test sound: %f %%' % (100 * float(correct) / total))"
   ]
  }
 ],
 "metadata": {
  "kernelspec": {
   "display_name": "MUTE",
   "language": "python",
   "name": "mute"
  },
  "language_info": {
   "codemirror_mode": {
    "name": "ipython",
    "version": 3
   },
   "file_extension": ".py",
   "mimetype": "text/x-python",
   "name": "python",
   "nbconvert_exporter": "python",
   "pygments_lexer": "ipython3",
   "version": "3.6.8"
  }
 },
 "nbformat": 4,
 "nbformat_minor": 2
}
