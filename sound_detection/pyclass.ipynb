{
 "cells": [
  {
   "cell_type": "code",
   "execution_count": 1,
   "metadata": {},
   "outputs": [],
   "source": [
    "import torch\n",
    "import torch.nn as nn\n",
    "import torch.optim as optim\n",
    "\n",
    "import torchvision\n",
    "import torchvision.utils as utils\n",
    "import torchvision.datasets as dsets\n",
    "import torchvision.transforms as transforms\n",
    "\n",
    "import numpy as np\n",
    "import random\n",
    "import os\n",
    "from torch.utils.data import Dataset, DataLoader\n",
    "import data_provider2"
   ]
  },
  {
   "cell_type": "code",
   "execution_count": null,
   "metadata": {},
   "outputs": [],
   "source": [
    "import torch\n",
    "import torch.nn as nn\n",
    "import torch.optim as optim\n",
    "\n",
    "import torchvision\n",
    "import torchvision.utils as utils\n",
    "import torchvision.datasets as dsets\n",
    "import torchvision.transforms as transforms\n",
    "\n",
    "import numpy as np\n",
    "import random\n",
    "import os\n",
    "from torch.utils.data import Dataset, DataLoader\n",
    "import data_provider2\n",
    "\n",
    "\n",
    "\n",
    "\n",
    "class my_datset2(Dataset):\n",
    "    \n",
    "    \n",
    "    def __init__(self,train = True):\n",
    "        \n",
    "        \n",
    "        self.train = train\n",
    "\n",
    "        total_train = np.load('/home/libedev/mute/mute-hero/download/urbansound/UrbanSound8K/audio/total_train_dataset.npz',dtype=np.float32)\n",
    "        total_test = np.load('/home/libedev/mute/mute-hero/download/urbansound/UrbanSound8K/audio/total_test_dataset.npz',dtype=np.float32)\n",
    "        \n",
    "                      \n",
    "   \n",
    "        if self.train :\n",
    "            \n",
    "            x=np.array([0,0,0,0,0,0,0])\n",
    "            self.train_data = np.zeros((6530,200))\n",
    "            self.train_data ,self.train_label = total_train['X'], total_train['y']\n",
    "              \n",
    "            \n",
    "            for i in range(len(self.train_data)):\n",
    "                self.train_data[i,] =  np.concatenate((self.train_data[i,],x),axis=None)\n",
    "            \n",
    "            \n",
    "            self.train_data =self.train_data .reshape(6530,1,10,20)\n",
    "            dtype = torch.FloatTensor\n",
    "            self.train_data  = torch.as_tensor(self.train_data ).type(dtype)\n",
    "            \n",
    "            \n",
    "            \n",
    "           \n",
    "            self.train_label = np.array(self.train_label)\n",
    "            \n",
    "            self.train_label = torch.tensor(self.train_label, dtype=torch.long)\n",
    "\n",
    "\n",
    "                \n",
    "        else :\n",
    "            \n",
    "            \n",
    "            x=np.array([0,0,0,0,0,0,0])\n",
    "            self.test_data = np.zeros((1722,200))\n",
    "            self.test_data ,self.test_label = total_test['X'], total_test['y']\n",
    "              \n",
    "            \n",
    "            for i in range(len(self.test_data)):\n",
    "                self.test_data[i,] =  np.concatenate((self.test_data[i,],x),axis=None)\n",
    "            \n",
    "            \n",
    "            self.test_data =self.test_data .reshape(1722,1,10,20)\n",
    "            dtype = torch.FloatTensor\n",
    "            self.train_data  = torch.as_tensor(self.train_data ).type(dtype)\n",
    "            \n",
    "            \n",
    "            \n",
    "           \n",
    "            self.test_label = np.array(self.test_label)\n",
    "            \n",
    "            self.test_label = torch.tensor(self.test_label, dtype=torch.long)\n",
    " \n",
    "    \n",
    "    \n",
    "    \n",
    "    def __getitem__(self,idx):\n",
    "            \n",
    "        if self.train :\n",
    "            \n",
    "            data , target = self.train_data[idx], self.train_label[idx]\n",
    "            \n",
    "        else:\n",
    "                \n",
    "            data, target = self.test_data[idx], self.test_label[idx]\n",
    "                \n",
    "        \n",
    "        \n",
    "        return data, target\n",
    "    \n",
    "\n",
    "                \n",
    "                \n",
    "                \n",
    "                \n",
    "    \n",
    "    def __len__(self):\n",
    "        \n",
    "            \n",
    "        if self.train:\n",
    "            return len(self.train_data)\n",
    "            \n",
    "        \n",
    "        else:\n",
    "            return len(self.test_data)\n",
    "            \n",
    "\n",
    "    \n",
    "    \n",
    "    "
   ]
  },
  {
   "cell_type": "code",
   "execution_count": 67,
   "metadata": {},
   "outputs": [
    {
     "name": "stdout",
     "output_type": "stream",
     "text": [
      "(1722, 193)\n"
     ]
    }
   ],
   "source": [
    "total_train = np.load('/home/libedev/mute/mute-hero/download/urbansound/UrbanSound8K/audio/total_train_dataset.npz')\n",
    "total_test = np.load('/home/libedev/mute/mute-hero/download/urbansound/UrbanSound8K/audio/total_test_dataset.npz')\n",
    "total_train =total_train['X'] \n",
    "total_test = total_test['X']\n",
    "print(total_test.shape)\n",
    "#total_train_target = total_train['y']"
   ]
  },
  {
   "cell_type": "code",
   "execution_count": 65,
   "metadata": {},
   "outputs": [
    {
     "name": "stdout",
     "output_type": "stream",
     "text": [
      "[[1. 0. 0. ... 0. 0. 0.]\n",
      " [0. 0. 1. ... 0. 0. 0.]\n",
      " [0. 0. 0. ... 0. 0. 0.]\n",
      " ...\n",
      " [0. 0. 1. ... 0. 0. 0.]\n",
      " [0. 0. 0. ... 0. 0. 0.]\n",
      " [0. 0. 0. ... 0. 0. 0.]]\n",
      "tensor([[1, 0, 0,  ..., 0, 0, 0],\n",
      "        [0, 0, 1,  ..., 0, 0, 0],\n",
      "        [0, 0, 0,  ..., 0, 0, 0],\n",
      "        ...,\n",
      "        [0, 0, 1,  ..., 0, 0, 0],\n",
      "        [0, 0, 0,  ..., 0, 0, 0],\n",
      "        [0, 0, 0,  ..., 0, 0, 0]])\n",
      "torch.Size([6530, 11])\n"
     ]
    }
   ],
   "source": [
    "total_train = np.load('/home/libedev/mute/mute-hero/download/urbansound/UrbanSound8K/audio/total_train_dataset.npz') \n",
    "toto2 =total_train['y'] \n",
    "print(total_train['y'])\n",
    "train_label = np.array(toto2)\n",
    "            \n",
    "toto2 = torch.tensor(toto2, dtype=torch.long)\n",
    "print(toto2)\n",
    "print(toto2.shape)"
   ]
  },
  {
   "cell_type": "code",
   "execution_count": 22,
   "metadata": {},
   "outputs": [
    {
     "ename": "ValueError",
     "evalue": "cannot reshape array of size 1260290 into shape (6530,1,10,20)",
     "output_type": "error",
     "traceback": [
      "\u001b[0;31m---------------------------------------------------------------------------\u001b[0m",
      "\u001b[0;31mValueError\u001b[0m                                Traceback (most recent call last)",
      "\u001b[0;32m<ipython-input-22-5975cb285766>\u001b[0m in \u001b[0;36m<module>\u001b[0;34m\u001b[0m\n\u001b[0;32m----> 1\u001b[0;31m \u001b[0mtotal_train\u001b[0m\u001b[0;34m=\u001b[0m\u001b[0mtotal_train\u001b[0m\u001b[0;34m.\u001b[0m\u001b[0mreshape\u001b[0m\u001b[0;34m(\u001b[0m\u001b[0;36m6530\u001b[0m\u001b[0;34m,\u001b[0m\u001b[0;36m1\u001b[0m\u001b[0;34m,\u001b[0m\u001b[0;36m10\u001b[0m\u001b[0;34m,\u001b[0m\u001b[0;36m20\u001b[0m\u001b[0;34m)\u001b[0m\u001b[0;34m\u001b[0m\u001b[0;34m\u001b[0m\u001b[0m\n\u001b[0m",
      "\u001b[0;31mValueError\u001b[0m: cannot reshape array of size 1260290 into shape (6530,1,10,20)"
     ]
    }
   ],
   "source": [
    "total_train=total_train.reshape(6530,1,10,20)"
   ]
  },
  {
   "cell_type": "code",
   "execution_count": 24,
   "metadata": {},
   "outputs": [],
   "source": [
    "dtype = torch.FloatTensor\n",
    "total_train = torch.as_tensor(total_train).type(dtype)"
   ]
  },
  {
   "cell_type": "code",
   "execution_count": null,
   "metadata": {},
   "outputs": [],
   "source": [
    "total_train.view(10,20)"
   ]
  },
  {
   "cell_type": "code",
   "execution_count": 26,
   "metadata": {},
   "outputs": [
    {
     "data": {
      "text/plain": [
       "torch.Size([6530, 193])"
      ]
     },
     "execution_count": 26,
     "metadata": {},
     "output_type": "execute_result"
    }
   ],
   "source": [
    "total_train.shape"
   ]
  },
  {
   "cell_type": "code",
   "execution_count": 45,
   "metadata": {},
   "outputs": [
    {
     "name": "stdout",
     "output_type": "stream",
     "text": [
      "(193,)\n"
     ]
    },
    {
     "ename": "AttributeError",
     "evalue": "'numpy.ndarray' object has no attribute 'type'",
     "output_type": "error",
     "traceback": [
      "\u001b[0;31m---------------------------------------------------------------------------\u001b[0m",
      "\u001b[0;31mAttributeError\u001b[0m                            Traceback (most recent call last)",
      "\u001b[0;32m<ipython-input-45-fa21a99478b3>\u001b[0m in \u001b[0;36m<module>\u001b[0;34m\u001b[0m\n\u001b[1;32m      1\u001b[0m \u001b[0mprint\u001b[0m\u001b[0;34m(\u001b[0m\u001b[0mtotal_train\u001b[0m\u001b[0;34m[\u001b[0m\u001b[0;36m1\u001b[0m\u001b[0;34m,\u001b[0m\u001b[0;34m]\u001b[0m\u001b[0;34m.\u001b[0m\u001b[0mshape\u001b[0m\u001b[0;34m)\u001b[0m\u001b[0;34m\u001b[0m\u001b[0;34m\u001b[0m\u001b[0m\n\u001b[0;32m----> 2\u001b[0;31m \u001b[0mprint\u001b[0m\u001b[0;34m(\u001b[0m\u001b[0mtotal_train\u001b[0m\u001b[0;34m.\u001b[0m\u001b[0mtype\u001b[0m\u001b[0;34m(\u001b[0m\u001b[0;34m)\u001b[0m\u001b[0;34m)\u001b[0m\u001b[0;34m\u001b[0m\u001b[0;34m\u001b[0m\u001b[0m\n\u001b[0m\u001b[1;32m      3\u001b[0m \u001b[0mprint\u001b[0m\u001b[0;34m(\u001b[0m\u001b[0mtotal_train\u001b[0m\u001b[0;34m[\u001b[0m\u001b[0;36m1\u001b[0m\u001b[0;34m,\u001b[0m\u001b[0;34m]\u001b[0m\u001b[0;34m.\u001b[0m\u001b[0mdtype\u001b[0m\u001b[0;34m)\u001b[0m\u001b[0;34m\u001b[0m\u001b[0;34m\u001b[0m\u001b[0m\n\u001b[1;32m      4\u001b[0m \u001b[0mprint\u001b[0m\u001b[0;34m(\u001b[0m\u001b[0mlen\u001b[0m\u001b[0;34m(\u001b[0m\u001b[0mtotal_train\u001b[0m\u001b[0;34m)\u001b[0m\u001b[0;34m)\u001b[0m\u001b[0;34m\u001b[0m\u001b[0;34m\u001b[0m\u001b[0m\n\u001b[1;32m      5\u001b[0m \u001b[0;34m\u001b[0m\u001b[0m\n",
      "\u001b[0;31mAttributeError\u001b[0m: 'numpy.ndarray' object has no attribute 'type'"
     ]
    }
   ],
   "source": [
    "print(total_train[1,].shape)\n",
    "print(total_train.type())\n",
    "print(total_train[1,].dtype)\n",
    "print(len(total_train))\n",
    "\n",
    "x = torch.zeros(1, 7,dtype=torch.float32)\n",
    "print(x)\n",
    "print(\"Tensor Type : \", x.type())\n",
    "print(\"Tensor Size : \", x.size())"
   ]
  },
  {
   "cell_type": "code",
   "execution_count": 52,
   "metadata": {},
   "outputs": [],
   "source": [
    "x=np.array([0,0,0,0,0,0,0])\n",
    "toto = np.zeros((6530,200))"
   ]
  },
  {
   "cell_type": "code",
   "execution_count": 69,
   "metadata": {},
   "outputs": [],
   "source": [
    "x=np.array([0,0,0,0,0,0,0])\n",
    "toto = np.zeros((6530,200))\n",
    "for i in range(len(total_train)):\n",
    "    toto[i,] =  np.concatenate((total_train[i,],x),axis=None)\n",
    "    "
   ]
  },
  {
   "cell_type": "code",
   "execution_count": 71,
   "metadata": {},
   "outputs": [
    {
     "data": {
      "text/plain": [
       "(6530, 200)"
      ]
     },
     "execution_count": 71,
     "metadata": {},
     "output_type": "execute_result"
    }
   ],
   "source": [
    "toto.shape"
   ]
  },
  {
   "cell_type": "code",
   "execution_count": 57,
   "metadata": {},
   "outputs": [],
   "source": [
    "total_train2=toto.reshape(6530,1,10,20)\n",
    "dtype = torch.FloatTensor\n",
    "total_train2 = torch.as_tensor(total_train2).type(dtype)\n",
    "total_train2=total_train2.reshape(6530,1,10,20)"
   ]
  },
  {
   "cell_type": "code",
   "execution_count": 59,
   "metadata": {},
   "outputs": [
    {
     "data": {
      "text/plain": [
       "torch.Size([6530, 1, 10, 20])"
      ]
     },
     "execution_count": 59,
     "metadata": {},
     "output_type": "execute_result"
    }
   ],
   "source": [
    "total_train2.shape"
   ]
  },
  {
   "cell_type": "code",
   "execution_count": 72,
   "metadata": {},
   "outputs": [],
   "source": [
    "x=np.array([0,0,0,0,0,0,0])\n",
    "toto = np.zeros((6530,200))\n",
    "for i in range(len(total_train)):\n",
    "    toto[i,] =  np.concatenate((total_train[i,],x),axis=None)\n",
    "total_train2=toto.reshape(6530,1,10,20)\n",
    "dtype = torch.FloatTensor\n",
    "total_train2 = torch.as_tensor(total_train2).type(dtype)\n",
    "total_train2=total_train2.reshape(6530,1,10,20)"
   ]
  },
  {
   "cell_type": "code",
   "execution_count": 73,
   "metadata": {},
   "outputs": [
    {
     "data": {
      "text/plain": [
       "torch.Size([6530, 1, 10, 20])"
      ]
     },
     "execution_count": 73,
     "metadata": {},
     "output_type": "execute_result"
    }
   ],
   "source": [
    "total_train2.shape"
   ]
  }
 ],
 "metadata": {
  "kernelspec": {
   "display_name": "MUTE",
   "language": "python",
   "name": "mute"
  },
  "language_info": {
   "codemirror_mode": {
    "name": "ipython",
    "version": 3
   },
   "file_extension": ".py",
   "mimetype": "text/x-python",
   "name": "python",
   "nbconvert_exporter": "python",
   "pygments_lexer": "ipython3",
   "version": "3.6.8"
  }
 },
 "nbformat": 4,
 "nbformat_minor": 2
}
