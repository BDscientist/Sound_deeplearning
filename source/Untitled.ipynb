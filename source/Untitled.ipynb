{
 "cells": [
  {
   "cell_type": "code",
   "execution_count": null,
   "metadata": {},
   "outputs": [],
   "source": [
    "import sys\n",
    "sys.path.append('..')\n",
    "from source import exec_freesound\n",
    "\n",
    "if __name__ == '__main__':\n",
    "    keywords = [\"car alarm horn\", \"car alarm\"]\n",
    "    exec_freesound.exec_free_sound(keywords, \"car alarm horn\")"
   ]
  }
 ],
 "metadata": {
  "kernelspec": {
   "display_name": "MUTE",
   "language": "python",
   "name": "mute"
  }
 },
 "nbformat": 4,
 "nbformat_minor": 2
}
