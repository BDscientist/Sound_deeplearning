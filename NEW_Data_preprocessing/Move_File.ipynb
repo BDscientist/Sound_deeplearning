{
 "cells": [
  {
   "cell_type": "code",
   "execution_count": 1,
   "metadata": {},
   "outputs": [],
   "source": [
    "import os\n",
    "import os.path\n",
    "import sys\n",
    "\n"
   ]
  },
  {
   "cell_type": "code",
   "execution_count": 2,
   "metadata": {},
   "outputs": [],
   "source": [
    "import os\n",
    "import os.path\n",
    "import sys\n",
    "\n",
    "def move_file(part):\n",
    "    label_list = open('/home/libedev/mute/mute-hero/download/dataset/sample.txt').read().strip().split('\\n')\n",
    "    files =[]\n",
    "    labels =[]\n",
    "    all_files = os.listdir('/home/libedev/mute/mute-hero/download/dataset/'+part)\n",
    "    \n",
    "    for f in all_files:\n",
    "        if f[-4:] =='.wav':\n",
    "            files.append(f[:-4])\n",
    "            label = f.split('_')[1]\n",
    "            labels.append(label_list.index(label))\n",
    "        \n",
    "    file_out = open('/home/libedev/mute/mute-hero/download/dataset/'+part+'_samples.txt','w')\n",
    "        \n",
    "    for a in files:\n",
    "        file_out.write(a+'\\n')\n",
    "    file_out.close()\n",
    "        \n",
    "    label_out = open('/home/libedev/mute/mute-hero/download/dataset/'+part+'_labels.txt','w')\n",
    "        \n",
    "    for l in labels:\n",
    "        label_out.write(str(l)+'\\n')\n",
    "    label_out.close()\n",
    "        \n",
    "\n",
    "\n",
    "if __name__ == '__main__' :\n",
    "    move_file('new_train')\n",
    "    move_file('new_test')"
   ]
  },
  {
   "cell_type": "code",
   "execution_count": 11,
   "metadata": {
    "scrolled": true
   },
   "outputs": [
    {
     "name": "stdout",
     "output_type": "stream",
     "text": [
      "['train_WomanSpeech_8', 'train_WomanSpeech_4', 'train_Laughter_43', 'train_Laughter_2', 'train_airplane_35', 'train_Vehicle_38', 'train_WomanSpeech_3', 'train_ManSpeech_19', 'train_CarEngine_7', 'train_Conversation_12', 'train_WomanSpeech_33', 'train_Vehicle_34', 'train_Vehicle_5', 'train_Conversation_30', 'train_ManSpeech_9', 'train_Horn_6', 'train_airplane_25', 'train_WomanSpeech_31', 'train_WomanSpeech_7', 'train_Laughter_31', 'train_ManSpeech_2', 'train_Horn_42', 'train_Horn_14', 'train_CarEngine_10', 'train_airplane_18', 'train_CarEngine_34', 'train_Horn_35', 'train_WomanSpeech_23', 'train_Horn_47', 'train_ManSpeech_42', 'train_Vehicle_46', 'train_airplane_8', 'train_Horn_40', 'train_airplane_6', 'train_CarEngine_12', 'train_Horn_37', 'train_airplane_36', 'train_WomanSpeech_49', 'train_airplane_4', 'train_Conversation_45', 'train_Conversation_8', 'train_airplane_9', 'train_Horn_19', 'train_Laughter_38', 'train_Laughter_28', 'train_Laughter_36', 'train_Laughter_3', 'train_WomanSpeech_10', 'train_Horn_27', 'train_Laughter_19', 'train_Conversation_31', 'train_WomanSpeech_9', 'train_airplane_50', 'train_WomanSpeech_30', 'train_airplane_30', 'train_airplane_42', 'train_ManSpeech_8', 'train_Conversation_44', 'train_Horn_3', 'train_ManSpeech_28', 'train_WomanSpeech_13', 'train_ManSpeech_47', 'train_CarEngine_32', 'train_WomanSpeech_26', 'train_Horn_30', 'train_Vehicle_12', 'train_Laughter_8', 'train_ManSpeech_50', 'train_Conversation_36', 'train_airplane_28', 'train_Laughter_24', 'train_Horn_26', 'train_CarEngine_4', 'train_Laughter_26', 'train_Vehicle_8', 'train_CarEngine_6', 'train_WomanSpeech_28', 'train_CarEngine_20', 'train_Conversation_34', 'train_Conversation_10', 'train_Conversation_41', 'train_CarEngine_15', 'train_Horn_45', 'train_WomanSpeech_25', 'train_WomanSpeech_40', 'train_Vehicle_23', 'train_airplane_19', 'train_WomanSpeech_43', 'train_airplane_49', 'train_Horn_36', 'train_Vehicle_30', 'train_Horn_34', 'train_CarEngine_46', 'train_airplane_26', 'train_ManSpeech_49', 'train_Laughter_18', 'train_Laughter_15', 'train_Horn_17', 'train_ManSpeech_24', 'train_Horn_8', 'train_CarEngine_3', 'train_WomanSpeech_38', 'train_ManSpeech_1', 'train_Conversation_32', 'train_airplane_22', 'train_Vehicle_40', 'train_airplane_37', 'train_WomanSpeech_37', 'train_Laughter_21', 'train_Laughter_45', 'train_CarEngine_24', 'train_CarEngine_27', 'train_Vehicle_33', 'train_Horn_38', 'train_airplane_5', 'train_CarEngine_38', 'train_CarEngine_29', 'train_Horn_15', 'train_ManSpeech_15', 'train_WomanSpeech_11', 'train_WomanSpeech_36', 'train_ManSpeech_46', 'train_airplane_24', 'train_ManSpeech_35', 'train_WomanSpeech_18', 'train_Conversation_9', 'train_Vehicle_4', 'train_Laughter_41', 'train_Horn_20', 'train_Laughter_27', 'train_Horn_50', 'train_CarEngine_50', 'train_WomanSpeech_14', 'train_Conversation_17', 'train_Laughter_20', 'train_Laughter_11', 'train_WomanSpeech_2', 'train_CarEngine_44', 'train_airplane_13', 'train_Laughter_47', 'train_ManSpeech_40', 'train_WomanSpeech_22', 'train_Horn_44', 'train_Laughter_42', 'train_airplane_2', 'train_CarEngine_11', 'train_WomanSpeech_39', 'train_Horn_21', 'train_airplane_3', 'train_WomanSpeech_50', 'train_Vehicle_22', 'train_Laughter_7', 'train_Horn_31', 'train_Vehicle_10', 'train_Conversation_39', 'train_Conversation_38', 'train_Conversation_6', 'train_Vehicle_41', 'train_Conversation_15', 'train_airplane_7', 'train_WomanSpeech_24', 'train_WomanSpeech_41', 'train_Vehicle_26', 'train_Vehicle_49', 'train_CarEngine_35', 'train_ManSpeech_29', 'train_Laughter_1', 'train_ManSpeech_23', 'train_ManSpeech_34', 'train_Laughter_48', 'train_Horn_4', 'train_Laughter_49', 'train_Laughter_23', 'train_Laughter_29', 'train_Vehicle_42', 'train_WomanSpeech_44', 'train_ManSpeech_7', 'train_Horn_25', 'train_Horn_13', 'train_Vehicle_18', 'train_ManSpeech_36', 'train_Vehicle_44', 'train_Conversation_47', 'train_CarEngine_2', 'train_WomanSpeech_42', 'train_Horn_49', 'train_Conversation_4', 'train_airplane_47', 'train_airplane_11', 'train_CarEngine_28', 'train_WomanSpeech_21', 'train_airplane_16', 'train_airplane_45', 'train_airplane_20', 'train_Vehicle_1', 'train_Vehicle_47', 'train_CarEngine_16', 'train_Vehicle_32', 'train_CarEngine_43', 'train_Conversation_40', 'train_CarEngine_5', 'train_Vehicle_2', 'train_ManSpeech_33', 'train_WomanSpeech_6', 'train_Conversation_11', 'train_ManSpeech_21', 'train_Horn_5', 'train_Horn_22', 'train_Horn_18', 'train_CarEngine_49', 'train_Laughter_33', 'train_airplane_46', 'train_Conversation_22', 'train_Horn_16', 'train_WomanSpeech_17', 'train_WomanSpeech_19', 'train_ManSpeech_38', 'train_Horn_39', 'train_CarEngine_13', 'train_WomanSpeech_5', 'train_CarEngine_33', 'train_airplane_10', 'train_CarEngine_41', 'train_WomanSpeech_15', 'train_Vehicle_21', 'train_airplane_1', 'train_Laughter_46', 'train_Conversation_26', 'train_Conversation_29', 'train_airplane_12', 'train_ManSpeech_4', 'train_airplane_29', 'train_WomanSpeech_48', 'train_CarEngine_39', 'train_Laughter_6', 'train_Vehicle_35', 'train_WomanSpeech_16', 'train_Horn_43', 'train_ManSpeech_31', 'train_Vehicle_24', 'train_airplane_17', 'train_airplane_33', 'train_Laughter_16', 'train_ManSpeech_30', 'train_Laughter_4', 'train_Horn_10', 'train_Conversation_7', 'train_Vehicle_15', 'train_airplane_43', 'train_Conversation_43', 'train_ManSpeech_26', 'train_Horn_29', 'train_Laughter_50', 'train_Laughter_14', 'train_Conversation_49', 'train_Conversation_16', 'train_Horn_28', 'train_ManSpeech_3', 'train_Conversation_2', 'train_Vehicle_27', 'train_CarEngine_40', 'train_Laughter_9', 'train_CarEngine_21', 'train_Vehicle_50', 'train_Horn_1', 'train_WomanSpeech_45', 'train_Conversation_35', 'train_ManSpeech_10', 'train_Conversation_27', 'train_Vehicle_45', 'train_WomanSpeech_47', 'train_ManSpeech_6', 'train_Vehicle_25', 'train_Laughter_34', 'train_Conversation_21', 'train_ManSpeech_43', 'train_Vehicle_43', 'train_Conversation_5', 'train_Conversation_13', 'train_Horn_41', 'train_ManSpeech_11', 'train_Conversation_28', 'train_Laughter_35', 'train_Conversation_14', 'train_ManSpeech_12', 'train_Vehicle_9', 'train_Laughter_17', 'train_airplane_44', 'train_ManSpeech_44', 'train_CarEngine_23', 'train_Conversation_1', 'train_Horn_7', 'train_ManSpeech_5', 'train_Laughter_22', 'train_ManSpeech_48', 'train_airplane_38', 'train_CarEngine_31', 'train_WomanSpeech_35', 'train_CarEngine_48', 'train_Laughter_44', 'train_Laughter_13', 'train_Laughter_37', 'train_Horn_12', 'train_Horn_32', 'train_Laughter_40', 'train_Vehicle_13', 'train_Vehicle_14', 'train_airplane_34', 'train_Horn_46', 'train_ManSpeech_22', 'train_Vehicle_20', 'train_CarEngine_8', 'train_Conversation_48', 'train_Laughter_39', 'train_Laughter_10', 'train_Vehicle_6', 'train_airplane_48', 'train_Vehicle_36', 'train_Conversation_19', 'train_Horn_23', 'train_Horn_11', 'train_Laughter_5', 'train_WomanSpeech_12', 'train_Conversation_46', 'train_Horn_2', 'train_Horn_33', 'train_Vehicle_11', 'train_CarEngine_30', 'train_ManSpeech_41', 'train_Laughter_30', 'train_Conversation_25', 'train_Conversation_37', 'train_ManSpeech_13', 'train_airplane_23', 'train_airplane_21', 'train_Vehicle_28', 'train_ManSpeech_45', 'train_CarEngine_18', 'train_CarEngine_19', 'train_Vehicle_29', 'train_CarEngine_1', 'train_Vehicle_7', 'train_Laughter_12', 'train_Laughter_25', 'train_Conversation_24', 'train_airplane_14', 'train_ManSpeech_16', 'train_Conversation_42', 'train_CarEngine_26', 'train_Horn_48', 'train_airplane_27', 'train_CarEngine_42', 'train_CarEngine_22', 'train_CarEngine_14', 'train_CarEngine_9', 'train_ManSpeech_39', 'train_Conversation_23', 'train_Conversation_3', 'train_airplane_40', 'train_airplane_32', 'train_ManSpeech_14', 'train_ManSpeech_32', 'train_airplane_41', 'train_CarEngine_17', 'train_WomanSpeech_46', 'train_WomanSpeech_20', 'train_CarEngine_37', 'train_airplane_15', 'train_WomanSpeech_32', 'train_Horn_24', 'train_WomanSpeech_1', 'train_WomanSpeech_29', 'train_Vehicle_3', 'train_ManSpeech_20', 'train_Conversation_20', 'train_airplane_39', 'train_Vehicle_48', 'train_airplane_31', 'train_Vehicle_31', 'train_CarEngine_47', 'train_CarEngine_45', 'train_Vehicle_17', 'train_Laughter_32', 'train_Conversation_33', 'train_ManSpeech_25', 'train_CarEngine_25', 'train_Vehicle_39', 'train_WomanSpeech_34', 'train_ManSpeech_37', 'train_ManSpeech_27', 'train_ManSpeech_18', 'train_Vehicle_37', 'train_Vehicle_19', 'train_Conversation_50', 'train_Vehicle_16', 'train_Conversation_18', 'train_WomanSpeech_27', 'train_ManSpeech_17', 'train_CarEngine_36', 'train_Horn_9']\n",
      "400\n"
     ]
    }
   ],
   "source": [
    "label_list = open('/home/libedev/mute/mute-hero/download/dataset/sample.txt').read().strip().split('\\n')\n",
    "files =[]\n",
    "labels =[]\n",
    "all_files = os.listdir('/home/libedev/mute/mute-hero/download/dataset/new_train')\n",
    "count =0 \n",
    "for f in all_files:\n",
    "    if f[-4:] =='.wav':\n",
    "        files.append(f[:-4])\n",
    "        label = f.split('_')[1]\n",
    "        labels.append(label_list.index(label))\n",
    "        count +=1\n",
    "for \n",
    "print(files)\n",
    "        \n",
    "print(count)"
   ]
  }
 ],
 "metadata": {
  "kernelspec": {
   "display_name": "MUTE",
   "language": "python",
   "name": "mute"
  },
  "language_info": {
   "codemirror_mode": {
    "name": "ipython",
    "version": 3
   },
   "file_extension": ".py",
   "mimetype": "text/x-python",
   "name": "python",
   "nbconvert_exporter": "python",
   "pygments_lexer": "ipython3",
   "version": "3.6.8"
  }
 },
 "nbformat": 4,
 "nbformat_minor": 2
}
